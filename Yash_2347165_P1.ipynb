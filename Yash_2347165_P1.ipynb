{
  "nbformat": 4,
  "nbformat_minor": 0,
  "metadata": {
    "colab": {
      "provenance": []
    },
    "kernelspec": {
      "name": "python3",
      "display_name": "Python 3"
    },
    "language_info": {
      "name": "python"
    }
  },
  "cells": [
    {
      "cell_type": "markdown",
      "source": [
        "Question 1: XOR Gate Classification\n",
        "I. Write the following in the answer sheet. (5 Marks)\n",
        "• Write the Threshold function.\n",
        "• Write Truth table for XOR Gate.\n",
        "• Write the XOR Gate Classification with input with weight initialization W11 = W21 =W12 = W22 =1.\n",
        "• Find the Optimum weights of W11, W21, W12, W22, V1 and V2 using the threshold function.\n",
        "• Why does the Single Layer Perceptron struggle to classify the XOR gate?\n",
        "• What modifications can be made to the neural network model to handle the XOR gate correctly?\n",
        "II. Implement the following:\n",
        "(Implementation 5 marks and Visualization and documentation 5 marks)\n",
        "• Scenario:\n",
        "The XOR gate is known for its complexity, as it outputs 1 only when the inputs are different.\n",
        "This is a challenge for a Single Layer Perceptron since XOR is not linearly separable.\n",
        "• Lab Task: Attempt to implement a Single Layer Perceptron in Google Colab to classify the\n",
        "output of an XOR gate. Perform the following steps:\n",
        "• Create the XOR gate's truth table dataset.\n",
        "• Implement the perceptron model and train it using the XOR dataset using MCP (McCulloch\n",
        "Pitts) Neuron.\n",
        "• Observe and discuss the perceptron's performance in this scenario.\n",
        "• Implement XOR using Multi-Layer Perceptron."
      ],
      "metadata": {
        "id": "Wll80vO51AR1"
      }
    },
    {
      "cell_type": "markdown",
      "source": [
        "Single-Layer Perceptron (SLP) for XOR Gate"
      ],
      "metadata": {
        "id": "SsJ9eHH76Y3d"
      }
    },
    {
      "cell_type": "markdown",
      "source": [
        " Imports and Data Setup\n",
        " Importing necessary libraries and sets up the XOR gate input-output pairs."
      ],
      "metadata": {
        "id": "qFd6g9ak1QQB"
      }
    },
    {
      "cell_type": "code",
      "execution_count": null,
      "metadata": {
        "id": "c3O5IA81zuVX"
      },
      "outputs": [],
      "source": [
        "import numpy as np\n",
        "import matplotlib.pyplot as plt"
      ]
    },
    {
      "cell_type": "markdown",
      "source": [
        "XOR input and Output"
      ],
      "metadata": {
        "id": "VG97qmP41UGv"
      }
    },
    {
      "cell_type": "code",
      "source": [
        "X = np.array([[0, 0], [0, 1], [1, 0], [1, 1]])\n",
        "y = np.array([0, 1, 1, 0])"
      ],
      "metadata": {
        "id": "Zje2S6gr1TOb"
      },
      "execution_count": null,
      "outputs": []
    },
    {
      "cell_type": "markdown",
      "source": [
        "Initializa Weights for the Single Layer Perceptron"
      ],
      "metadata": {
        "id": "nCVo9liM1XcE"
      }
    },
    {
      "cell_type": "code",
      "source": [
        "W = np.random.rand(2)\n",
        "b = np.random.rand(1)"
      ],
      "metadata": {
        "id": "50lBvJzL1WzN"
      },
      "execution_count": null,
      "outputs": []
    },
    {
      "cell_type": "markdown",
      "source": [
        "Threshold Function"
      ],
      "metadata": {
        "id": "j1E1DF_S1zy1"
      }
    },
    {
      "cell_type": "code",
      "source": [
        "def threshold(x):\n",
        "    return 1 if x >= 0 else 0"
      ],
      "metadata": {
        "id": "Sl5VnFfK1_TP"
      },
      "execution_count": null,
      "outputs": []
    },
    {
      "cell_type": "markdown",
      "source": [
        "Training the Perceptron"
      ],
      "metadata": {
        "id": "gTF59C1E4GA8"
      }
    },
    {
      "cell_type": "code",
      "source": [
        "learning_rate = 0.1\n",
        "errors = []\n",
        "for epoch in range(100):\n",
        "    total_error = 0\n",
        "    for i in range(X.shape[0]):\n",
        "        z = np.dot(X[i], W) + b\n",
        "        output = threshold(z)\n",
        "        error = y[i] - output\n",
        "        total_error += abs(error)\n",
        "        W += learning_rate * error * X[i]\n",
        "        b += learning_rate * error\n",
        "    errors.append(total_error)"
      ],
      "metadata": {
        "id": "RSn0POAL4IOi"
      },
      "execution_count": null,
      "outputs": []
    },
    {
      "cell_type": "markdown",
      "source": [
        "Visualization of errors during training"
      ],
      "metadata": {
        "id": "HdJG4T2A14mp"
      }
    },
    {
      "cell_type": "code",
      "source": [
        "plt.plot(errors)\n",
        "plt.title('Error Reduction Over Epochs (SLP)')\n",
        "plt.xlabel('Epoch')\n",
        "plt.ylabel('Total Error')\n",
        "plt.grid(True)\n",
        "plt.show()\n",
        "\n",
        "print(\"Final Weights (SLP):\", W)\n",
        "print(\"Final Bias (SLP):\", b)\n",
        "\n",
        "for i in range(X.shape[0]):\n",
        "    z = np.dot(X[i], W) + b\n",
        "    output = threshold(z)\n",
        "    print(f\"Input: {X[i]} - Predicted: {output} - Actual: {y[i]}\")"
      ],
      "metadata": {
        "colab": {
          "base_uri": "https://localhost:8080/",
          "height": 576
        },
        "id": "vsO1gN7g1Z9G",
        "outputId": "fd323e41-d84a-4a79-a7c7-cce09dfb1deb"
      },
      "execution_count": null,
      "outputs": [
        {
          "output_type": "display_data",
          "data": {
            "text/plain": [
              "<Figure size 640x480 with 1 Axes>"
            ],
            "image/png": "[encoded data removed]"
          },
          "metadata": {}
        },
        {
          "output_type": "stream",
          "name": "stdout",
          "text": [
            "Final Weights (SLP): [-0.11655848 -0.00827496]\n",
            "Final Bias (SLP): [0.02889492]\n",
            "Input: [0 0] - Predicted: 1 - Actual: 0\n",
            "Input: [0 1] - Predicted: 1 - Actual: 1\n",
            "Input: [1 0] - Predicted: 0 - Actual: 1\n",
            "Input: [1 1] - Predicted: 0 - Actual: 0\n"
          ]
        }
      ]
    },
    {
      "cell_type": "markdown",
      "source": [
        "Multi-Layer Perceptron (MLP)"
      ],
      "metadata": {
        "id": "qNBohzh77cvq"
      }
    },
    {
      "cell_type": "markdown",
      "source": [
        "XOR input and output"
      ],
      "metadata": {
        "id": "ckxHLc8Q2a4J"
      }
    },
    {
      "cell_type": "code",
      "source": [
        "X = np.array([[0, 0], [0, 1], [1, 0], [1, 1]])\n",
        "y = np.array([[0], [1], [1], [0]])"
      ],
      "metadata": {
        "id": "IhPkVew24vCw"
      },
      "execution_count": null,
      "outputs": []
    },
    {
      "cell_type": "markdown",
      "source": [
        "Sigmoid activation function and its derivative"
      ],
      "metadata": {
        "id": "XF2eyW3x7quY"
      }
    },
    {
      "cell_type": "code",
      "source": [
        "def sigmoid(x):\n",
        "    return 1 / (1 + np.exp(-x))\n",
        "\n",
        "def sigmoid_derivative(x):\n",
        "    return x * (1 - x)"
      ],
      "metadata": {
        "id": "Dt0_aiYL7rkp"
      },
      "execution_count": null,
      "outputs": []
    },
    {
      "cell_type": "markdown",
      "source": [
        "Initialize weights and biases"
      ],
      "metadata": {
        "id": "ntWmvxjq7uiU"
      }
    },
    {
      "cell_type": "code",
      "source": [
        "np.random.seed(0)\n",
        "W1 = np.random.rand(2, 2)\n",
        "W2 = np.random.rand(2, 1)\n",
        "b1 = np.random.rand(1, 2)\n",
        "b2 = np.random.rand(1, 1)"
      ],
      "metadata": {
        "id": "iDKsdrgi7t22"
      },
      "execution_count": null,
      "outputs": []
    },
    {
      "cell_type": "markdown",
      "source": [
        "Training the model"
      ],
      "metadata": {
        "id": "kmXNU98W75hk"
      }
    },
    {
      "cell_type": "code",
      "source": [
        "epochs = 10000\n",
        "learning_rate = 0.1\n",
        "errors = []\n",
        "for epoch in range(epochs):\n",
        "    hidden_input = np.dot(X, W1) + b1\n",
        "    hidden_output = sigmoid(hidden_input)\n",
        "    final_input = np.dot(hidden_output, W2) + b2\n",
        "    final_output = sigmoid(final_input)\n",
        "\n",
        "    error = y - final_output\n",
        "    errors.append(np.mean(np.abs(error)))\n",
        "\n",
        "    d_output = error * sigmoid_derivative(final_output)\n",
        "    error_hidden_layer = d_output.dot(W2.T)\n",
        "    d_hidden_layer = error_hidden_layer * sigmoid_derivative(hidden_output)\n",
        "\n",
        "    W2 += hidden_output.T.dot(d_output) * learning_rate\n",
        "    W1 += X.T.dot(d_hidden_layer) * learning_rate\n",
        "    b2 += np.sum(d_output, axis=0, keepdims=True) * learning_rate\n",
        "    b1 += np.sum(d_hidden_layer, axis=0, keepdims=True) * learning_rate"
      ],
      "metadata": {
        "id": "z9JdS5nX718p"
      },
      "execution_count": null,
      "outputs": []
    },
    {
      "cell_type": "markdown",
      "source": [
        "Visualization of errors during training"
      ],
      "metadata": {
        "id": "84H5avEQ8CHK"
      }
    },
    {
      "cell_type": "code",
      "source": [
        "plt.plot(errors)\n",
        "plt.title('Error Reduction Over Epochs (MLP)')\n",
        "plt.xlabel('Epoch')\n",
        "plt.ylabel('Mean Absolute Error')\n",
        "plt.grid(True)\n",
        "plt.show()\n",
        "\n",
        "\n",
        "print(\"Final Weights (MLP):\", W1, W2)\n",
        "for i in range(X.shape[0]):\n",
        "    hidden_input = np.dot(X[i], W1) + b1\n",
        "    hidden_output = sigmoid(hidden_input)\n",
        "    final_input = np.dot(hidden_output, W2) + b2\n",
        "    final_output = sigmoid(final_input)\n",
        "    print(f\"Input: {X[i]} - Predicted: {final_output.round()} - Actual: {y[i]}\")"
      ],
      "metadata": {
        "colab": {
          "base_uri": "https://localhost:8080/",
          "height": 593
        },
        "id": "_iIfzzYO78Xs",
        "outputId": "1765e413-458f-47f6-e5bb-2729ef6aba21"
      },
      "execution_count": null,
      "outputs": [
        {
          "output_type": "display_data",
          "data": {
            "text/plain": [
              "<Figure size 640x480 with 1 Axes>"
            ],
            "image/png": "[encoded data removed]"
          },
          "metadata": {}
        },
        {
          "output_type": "stream",
          "name": "stdout",
          "text": [
            "Final Weights (MLP): [[3.63359244 5.73194217]\n",
            " [3.63514473 5.73977194]] [[-7.96152045]\n",
            " [ 7.34707053]]\n",
            "Input: [0 0] - Predicted: [[0.]] - Actual: [0]\n",
            "Input: [0 1] - Predicted: [[1.]] - Actual: [1]\n",
            "Input: [1 0] - Predicted: [[1.]] - Actual: [1]\n",
            "Input: [1 1] - Predicted: [[0.]] - Actual: [0]\n"
          ]
        }
      ]
    }
  ]
}